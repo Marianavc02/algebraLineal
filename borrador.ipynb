{
  "cells": [
    {
      "cell_type": "markdown",
      "metadata": {
        "id": "yJTXJoSyfUoW"
      },
      "source": [
        "\n",
        "#**Laboratorio #2 (6%)**\n",
        "\n",
        "**Instrucciones:** El presente trabajo consta de seis (6) problemas cada uno con un valor determinado. La entrega del laboratorio **debe ser realizada en grupos de máximo 4 integrantes**. Se debe entregar un **solo documento por grupo** en el cual **debe aparecer de forma clara los nombres completo de los integrantes**. Por favor, **comentar de forma organizada y coherente** los pasos realizados.  \n",
        "\n",
        "**Formato de entrega:** Para la entrega de este trabajo, descargue el archivo en **formato PDF** (esto lo consigue con la combinación de teclas **ctrl + p** y guardando el archivo en el formato requerido) y enviarlo a través de Interactiva en el buzón designado para ello.\n",
        "\n",
        "**NOTA:** No olvide imprimir las respuestas de sus cálculos."
      ]
    },
    {
      "cell_type": "code",
      "execution_count": null,
      "metadata": {
        "id": "PzwDHl5H-I8H"
      },
      "outputs": [],
      "source": [
        "########---------------Nombre completo de los integrantes del grupo de trabajo-------------------##########\n",
        "\n",
        "# Integrante 1: Alexandra Hurtado David\n",
        "\n",
        "# Integrante 2: Mariana Valderrama Castañeda\n",
        "\n",
        "# Integrante 3:\n",
        "\n",
        "# Integrante 4:"
      ]
    },
    {
      "cell_type": "markdown",
      "metadata": {
        "id": "8RyiyN2m9zcB"
      },
      "source": [
        "### **Ejercicio #1: (0.6)**\n",
        "Considere la matriz\n",
        "\n",
        "\\begin{equation*}\n",
        " A =\n",
        "\\begin{pmatrix}\n",
        " -k & k-1 & k+1 & k & 0\\\\\n",
        "1 & 2 & 3 & 4 & 1\\\\\n",
        "2-k & k+3 & k+7 & 2 & 1 \\\\\n",
        "-2 & 3 & 4 & 6 & 2 \\\\\n",
        "0 & 2 & 1 & 0 & 3\n",
        "\\end{pmatrix}.\n",
        "\\end{equation*} \\\n",
        "\n",
        "\n",
        "a). **(0.3)**  Halle los valores de $k$ para los cuales la matriz $A$ tiene inversa.\n",
        "\n",
        "b). **(0.3)**  Halle los valores de $k$ para los cuales $\\det(A) = k -4$.\n"
      ]
    },
    {
      "cell_type": "code",
      "execution_count": null,
      "metadata": {
        "id": "TkJQnEDwAzup"
      },
      "outputs": [],
      "source": [
        "# Solución Ejercicio 1. (No olvide imprimir las respuestas de sus cálculos)\n",
        "\n",
        "# (a):\n"
      ]
    },
    {
      "cell_type": "code",
      "execution_count": null,
      "metadata": {
        "id": "cI5F0vYLU7oY"
      },
      "outputs": [],
      "source": [
        "# Solución Ejercicio 1. (No olvide imprimir las respuestas de sus cálculos)\n",
        "\n",
        "# (b):"
      ]
    },
    {
      "cell_type": "markdown",
      "metadata": {
        "id": "S8_KgC0JzPpj"
      },
      "source": [
        "\n",
        "### **Ejercicio #2: (0.7)**\n",
        "Sean $A(x_1,y_1), \\ B(x_2,y_2)$ y $C(x_3,y_3)$ tres puntos en el plano $xy$. El área del triángulo formado por dichos puntos $A,B,C$ es dada por la expresión  \n",
        "\n",
        "\\begin{equation*}\n",
        " \\mbox{Área} = \\frac{1}{2} \\left | \\det\n",
        "\\begin{pmatrix}\n",
        "x_1 & y_1 & 1\\\\\n",
        "x_2 & y_2 & 1 \\\\\n",
        "x_3 & y_3 & 1\n",
        "\\end{pmatrix} \\right|,\n",
        "\\end{equation*}\n",
        "\n",
        "donde el símbolo $|.|$ denota el valor absoluto.\n",
        "\n",
        "a). **(0.3)** Sean $A(0,-3), \\ B(8,1)$ y $C(-2,5)$. Halle el área del triángulo formado por los puntos $A, \\ B, \\ C$.  \n",
        "\n",
        "b). **(0.4)**  ¿Para qué valores de $k$ el **cuadrado del área del triángulo** formado por los puntos $A(1,k), \\ B(k,0)$ y $C(0,k)$ es igual al área encontrada en el item (a)?"
      ]
    },
    {
      "cell_type": "code",
      "execution_count": 9,
      "metadata": {
        "id": "8-ZGhYEizqp0",
        "colab": {
          "base_uri": "https://localhost:8080/"
        },
        "outputId": "8cfeb67d-1ff9-4c41-fcbb-95b409cdb2a5"
      },
      "outputs": [
        {
          "output_type": "stream",
          "name": "stdout",
          "text": [
            "36.0000000000000\n"
          ]
        }
      ],
      "source": [
        "# Solución Ejercicio 2. (No olvide imprimir las respuestas de sus cálculos)\n",
        "import sympy as sp\n",
        "# (a):\n",
        "u=0.5\n",
        "matriz = sp.Matrix([[0, -3, 1 ],\n",
        "                    [8, 1, 1],\n",
        "                    [-2,  5, 1]])\n",
        "determinante= matriz.det()\n",
        "area =u*determinante\n",
        "print(area)\n",
        "\n",
        "\n",
        "\n",
        "\n",
        "\n",
        "\n"
      ]
    },
    {
      "cell_type": "code",
      "execution_count": 8,
      "metadata": {
        "id": "tLMBJnxIfdgs",
        "colab": {
          "base_uri": "https://localhost:8080/"
        },
        "outputId": "fd26a292-969b-4ef5-e29a-b982af5fffd5"
      },
      "outputs": [
        {
          "output_type": "stream",
          "name": "stdout",
          "text": [
            "[-12.0000000000000, 12.0000000000000]\n"
          ]
        }
      ],
      "source": [
        "# Solución Ejercicio 2. (No olvide imprimir las respuestas de sus cálculos)\n",
        "\n",
        "# (b):\n",
        "u=0.5\n",
        "k = sp.Symbol('k')\n",
        "matrizA= sp.Matrix([[0, -3, 1 ],\n",
        "                    [8, 1, 1],\n",
        "                    [-2,  5, 1]])\n",
        "matrizB = sp.Matrix([[1, k, 1 ],\n",
        "                    [k, 0, 1],\n",
        "                    [0,  k, 1]])\n",
        "\n",
        "determinanteA= matrizA.det()\n",
        "areaA =u*determinanteA\n",
        "\n",
        "determinanteB= matrizB.det()\n",
        "areaB =u*determinanteB\n",
        "\n",
        "\n",
        "# el areaB**2-AreaA da 0 al ser iguales y resuelvo la ecuación para k\n",
        "Sol = sp.solve(areaB**2 - areaA, k)\n",
        "print(Sol)\n"
      ]
    },
    {
      "cell_type": "markdown",
      "metadata": {
        "id": "NIHkg4fCYC8F"
      },
      "source": [
        "### **Ejercicio #3: (0.7)**\n",
        "Considere el conjunto de vectores de $\\mathbb{R}^6$:\n",
        "\n",
        "$$ S = \\{ (1,0,1,0,0,0), (0,1,0,1,0,1), (-1,1,0,0,1,1), (0,0,-1,-1,1,-1),(-1,0,-2,0,1,0), (0,0,0,1,-1,1)\\}.     $$\n",
        "\n",
        "(a). **(0.3)** Muestre que dicho conjunto $S$ es una base para $\\mathbb{R}^6$.\n",
        "\n",
        "(b). **(0.4)** Determinar las coordenadas del vector $(1, 2, 3,4,5,5)$ en dicha base."
      ]
    },
    {
      "cell_type": "code",
      "execution_count": null,
      "metadata": {
        "id": "mI0rBpuohZog"
      },
      "outputs": [],
      "source": [
        "# Solución Ejercicio 3. (No olvide imprimir las respuestas de sus cálculos)\n",
        "\n",
        "# (a):\n"
      ]
    },
    {
      "cell_type": "code",
      "execution_count": null,
      "metadata": {
        "id": "DHe_R20Xi3RK"
      },
      "outputs": [],
      "source": [
        "# Solución Ejercicio 3. (No olvide imprimir las respuestas de sus cálculos)\n",
        "\n",
        "# (b):"
      ]
    },
    {
      "cell_type": "markdown",
      "metadata": {
        "id": "UtvOUUZkXRzf"
      },
      "source": [
        "### **Ejercicio #4: (1.0)**\n",
        "Considere el espacio vectorial\n",
        "\n",
        "$$ M_{n \\times n}(\\mathbb{R}) := \\left\\lbrace \\begin{equation*}\n",
        " A =\n",
        "\\begin{pmatrix}\n",
        " a_{11} & a_{12} & \\cdots & a_{1n}\\\\\n",
        "a_{21} & a_{22} & \\cdots & a_{2n}\\\\\n",
        "\\vdots & \\vdots & \\ddots & \\vdots\\\\\n",
        "a_{n1} & a_{n2} & \\cdots & a_{nn}\n",
        "\\end{pmatrix}\n",
        "\\end{equation*} :  a_{ij} \\in \\mathbb{R}, \\  ∀ i,j = 1,...,n  \\right\\rbrace,$$\n",
        "\n",
        "es decir, el espacio de las matrices cuadradas de tamaño $n \\times n$ con las operaciones usuales de las matrices.\n",
        "Si $A$ y $B$ están en $M_{n \\times n}(\\mathbb{R})$, se define el producto escalar y la norma como sigue:\n",
        "\n",
        "$$  \\langle A,B \\rangle = Tr(B^{T}A), \\quad \\quad \\|A\\|  = \\sqrt{Tr(A^{T}A)},          $$\n",
        "donde $Tr(A)$ denota la traza de la matriz $A$, y se define como $Tr(A) = a_{11} + a_{22} + \\cdots + a_{nn}.$\n",
        "\n",
        "  a). **(0.5)** Sea $n = 4$ y considere las matrices \\begin{equation*}\n",
        "  A =\n",
        "  \\begin{pmatrix}\n",
        "  1 &  0 & 3 & 20\\\\\n",
        "  0 & 1 & 2 & 5 \\\\\n",
        "-4 & 6 & 1 & -9 \\\\\n",
        "7 & 2 & 1 & 0\n",
        "  \\end{pmatrix}, \\\n",
        "  B =\n",
        "  \\begin{pmatrix}\n",
        "   8 &  6 & 14 & 2\\\\\n",
        "  1 & 0 & 3 & 0 \\\\\n",
        "5 & 8 & 1 & 9 \\\\\n",
        "-3 & -3 & 1 & 1\n",
        "  \\end{pmatrix},\n",
        "  \\end{equation*} halle $-3 \\langle AB,B \\rangle -  \\| A^2-B^2 \\|$.  \n",
        "\n",
        "\n",
        "\n",
        "b). **(0.5)**  Halle **la mitad del  ángulo** entre las matrices $A$ y $B$ definidas anteriormente (dar su respuesta en grados).\n",
        "\n"
      ]
    },
    {
      "cell_type": "code",
      "execution_count": 10,
      "metadata": {
        "colab": {
          "base_uri": "https://localhost:8080/"
        },
        "id": "E96U0ATKkzQF",
        "outputId": "a221b6b6-50c6-4819-cf2c-ff5a8deeb138"
      },
      "outputs": [
        {
          "output_type": "stream",
          "name": "stdout",
          "text": [
            "Sol = 29\n"
          ]
        }
      ],
      "source": [
        "#########---------- Ejecutar esta parte antes de dar respuesta a las preguntas-----------#########\n",
        "\n",
        "# NOTA: El producto escalar aqui definido puede calcularse  mediante la siguiente función:\n",
        "\n",
        "import numpy as np\n",
        "\n",
        "Product = lambda A,B: np.trace(np.transpose(B) @ A)\n",
        "\n",
        "# Dicha función recibe como entradas las matrices A,B y devuelve como resultado el producto escalar de A y B.\n",
        "\n",
        "# Ejemplo: Hallemos el producto escalar <A,B> con las matrices definidas a continuación\n",
        "\n",
        "A = np.array([[9, 0, 0, 0],[0,2,0,0],[0,0,3,0],[0,0,0,1]])\n",
        "\n",
        "B = np.array([[1, 0, 0, 0],[0,3, 0, 0],[0, 0, 4, 0],[0, 0, 0, 2]])\n",
        "\n",
        "Sol = Product(A,B)\n",
        "\n",
        "print('Sol =', Sol)"
      ]
    },
    {
      "cell_type": "code",
      "execution_count": 25,
      "metadata": {
        "id": "-l9fLWIwc_eY",
        "colab": {
          "base_uri": "https://localhost:8080/"
        },
        "outputId": "2c10dbf8-951a-4804-cd62-78ad0aa27ffc"
      },
      "outputs": [
        {
          "output_type": "stream",
          "name": "stdout",
          "text": [
            "Resultado: -187.12575184235118\n"
          ]
        }
      ],
      "source": [
        "# Solución Ejercicio 4. (No olvide imprimir las respuestas de sus cálculos)\n",
        "\n",
        "# Debe usar en sus respuestas la función antes definida\n",
        "\n",
        "# (a):\n",
        "import numpy as np\n",
        "\n",
        "A = np.array([[1, 0, 3, 20],\n",
        "              [0, 1, 2, 5],\n",
        "              [-4, 6, 1, -9],\n",
        "              [7, 2, 1, 0]])\n",
        "\n",
        "B = np.array([[8, 6, 14, 2],\n",
        "              [1, 0, 3, 0],\n",
        "              [5, 8, 1, 9],\n",
        "              [-3, -3, 1, 1]])\n",
        "\n",
        "# Calculo AB\n",
        "AB = np.dot(A, B)\n",
        "\n",
        "#  el producto escalar <AB, B>\n",
        "producto = lambda AB,B: np.trace(np.transpose(B) @ AB)\n",
        "producto_escalar = producto(AB, B)\n",
        "\n",
        "# A^2 y B^2\n",
        "Aalcuadrado = np.dot(A, A)\n",
        "Balcuadrado = np.dot(B, B)\n",
        "\n",
        "# Paso 4: Calcular la norma ||A^2 - B^2||\n",
        "norma = np.sqrt(np.trace(np.dot(Aalcuadrado - Balcuadrado, np.transpose(Aalcuadrado - Balcuadrado))))\n",
        "\n",
        "# Paso 5: Calcular -3<AB, B> - ||A^2 - B^2||\n",
        "result = -3 * producto_escalar- norma\n",
        "\n",
        "# Resultado\n",
        "print(\"Resultado:\", result)\n"
      ]
    },
    {
      "cell_type": "code",
      "execution_count": 20,
      "metadata": {
        "id": "qD7Mg6SrqXx0",
        "colab": {
          "base_uri": "https://localhost:8080/"
        },
        "outputId": "7f90aeb8-2e60-4a6a-f8e2-ec84a7ac75cf"
      },
      "outputs": [
        {
          "output_type": "stream",
          "name": "stdout",
          "text": [
            "La mitad del ángulo entre A y B es: 44.08052267492063 grados\n"
          ]
        }
      ],
      "source": [
        "# Solución Ejercicio 4. (No olvide imprimir las respuestas de sus cálculos)\n",
        "\n",
        "# Debe usar en sus respuestas la función antes definida\n",
        "\n",
        "# (b):\n",
        "import numpy as np\n",
        "\n",
        "# Definir matrices A y B\n",
        "A = np.array([[1, 0, 3, 20],\n",
        "              [0, 1, 2, 5],\n",
        "              [-4, 6, 1, -9],\n",
        "              [7, 2, 1, 0]])\n",
        "\n",
        "B = np.array([[8, 6, 14, 2],\n",
        "              [1, 0, 3, 0],\n",
        "              [5, 8, 1, 9],\n",
        "              [-3, -3, 1, 1]])\n",
        "\n",
        "# Producto escalar <A, B>\n",
        "\n",
        "producto = lambda A,B: np.trace(np.transpose(B) @ A)\n",
        "producto_escalar = producto(A, B)\n",
        "\n",
        "# Normas A y B\n",
        "norma_A = np.sqrt(np.trace(np.dot(np.transpose(A), A)))\n",
        "norma_B = np.sqrt(np.trace(np.dot(np.transpose(B), B)))\n",
        "\n",
        "# Coseno del ángulo\n",
        "cos_theta = producto_escalar / (norma_A * norma_B)\n",
        "\n",
        "# Ángulo en radianes\n",
        "theta_radianes = np.arccos(cos_theta)\n",
        "\n",
        "# Convertir el ángulo a grados\n",
        "theta_grados = np.degrees(theta_radianes)\n",
        "\n",
        "\n",
        "mitad_angulo = theta_grados / 2\n",
        "\n",
        "\n",
        "print(\"La mitad del ángulo entre A y B es:\", mitad_angulo, \"grados\")\n"
      ]
    },
    {
      "cell_type": "markdown",
      "metadata": {
        "id": "MmaCYGL7Faaa"
      },
      "source": [
        "### **Ejercicio #5: (1.0)**\n",
        "Considere el conjunto\n",
        "\n",
        "$$ \\mathbb{R}^{2} := \\{ \\vec{u} = (u_1,u_2):  u_{1},u_{2} \\in \\mathbb{R} \\}.$$\n",
        "\n",
        "Para  $\\vec{u} = (u_1,u_2)$, $\\vec{v} = (v_1,v_2)$ en  $\\mathbb{R}^{2}$ y $\\alpha \\in \\mathbb{R}$ se definen  las operaciones:\n",
        "\n",
        "$$\\vec{u} \\oplus \\vec{v} := (u_1 + v_1 + 2,u_2 + v_2 + 2),$$\n",
        "\n",
        "$$ \\alpha \\odot \\vec{u} := (\\alpha + \\alpha u_1 -1,\\alpha + \\alpha u_2 -1).   $$\n",
        "\n",
        "a). **(0.5)** Halle $  6 \\odot (8,2) \\oplus 3 \\odot (-1,18). $\n",
        "\n",
        "b). **(0.5)** Muestre que el vector $\\vec{0} = (-2,-2)$ es el elemento neutro aditivo verificando la igualdad $\\vec{0} \\oplus (4,6) = (4,6).$\n"
      ]
    },
    {
      "cell_type": "code",
      "execution_count": null,
      "metadata": {
        "colab": {
          "base_uri": "https://localhost:8080/"
        },
        "id": "Trw4fPumIOQh",
        "outputId": "1dcc2612-475a-41fd-ecbb-c89a010976ca"
      },
      "outputs": [
        {
          "name": "stdout",
          "output_type": "stream",
          "text": [
            "Sol = [[ 4 13]]\n"
          ]
        }
      ],
      "source": [
        "#########---------- Ejecutar esta parte antes de dar respuesta a las preguntas-----------#########\n",
        "\n",
        "# NOTA: Las operaciones suma y producto aqui definidas pueden ser calculadas  mediante las siguientes funciones:\n",
        "\n",
        "SUMA = lambda u,v:  np.array([[u[0,0] + v[0,0] + 2,u[0,1] + v[0,1] + 2]])\n",
        "\n",
        "# La función SUMA recibe como entradas los vectores u,v y devuelve como resultado la suma de dichos vectores.\n",
        "\n",
        "PRODUCTO = lambda alpha,u:  np.array([[alpha + alpha*u[0,0] - 1,alpha + alpha*u[0,1] - 1]])\n",
        "\n",
        "# La función PRODUCTO recibe como entradas el escalar alpha y el vector u, y devuelve como resultado el producto escalar de alpha por u.\n",
        "\n",
        "# Ejemplo: Hallemos la suma de u = (2,7) con v = (0,4).\n",
        "\n",
        "u = np.array([[2, 7]])\n",
        "\n",
        "v = np.array([[0, 4]])\n",
        "\n",
        "Sol = SUMA(u,v)\n",
        "\n",
        "print('Sol =', Sol)\n"
      ]
    },
    {
      "cell_type": "code",
      "execution_count": null,
      "metadata": {
        "id": "a-XExCEhRAky"
      },
      "outputs": [],
      "source": [
        "# Solución Ejercicio 5. (No olvide imprimir las respuestas de sus cálculos)\n",
        "\n",
        "# Debe usar en sus respuestas las funciones antes definida\n",
        "\n",
        "# (a):"
      ]
    },
    {
      "cell_type": "code",
      "execution_count": null,
      "metadata": {
        "id": "AvarN0C1U3mA"
      },
      "outputs": [],
      "source": [
        "# Solución Ejercicio 5. (No olvide imprimir las respuestas de sus cálculos)\n",
        "\n",
        "# Debe usar en sus respuestas las funciones antes definida\n",
        "\n",
        "# (b):"
      ]
    },
    {
      "cell_type": "markdown",
      "metadata": {
        "id": "KSDDBkP54l4X"
      },
      "source": [
        "### **Ejercicio #6: (1.0)**\n",
        "Considere el espacio vectorial $M_{2 \\times 2}(\\mathbb{R})$ dotado del producto escalar definido en el **Ejercicio # 4**.  Use el proceso de **Gram-Schmidt** para construir una base ortonormal para el subespacio de $M_{2 \\times 2}(\\mathbb{R})$  generado por la base\n",
        "\n",
        "\\begin{equation*}\n",
        "  A_1 =\n",
        "  \\begin{pmatrix}\n",
        "  -1  & 3\\\\\n",
        "0  &  1\n",
        "  \\end{pmatrix}, \\\n",
        "  A_2 =\n",
        "  \\begin{pmatrix}\n",
        "   1 &  2\\\\\n",
        "-1 & 0\n",
        "  \\end{pmatrix},\n",
        "  \\\n",
        "  A_3 =\n",
        "  \\begin{pmatrix}\n",
        "   -2 &  0\\\\\n",
        "1 & 1\n",
        "\\end{pmatrix},\n",
        "  \\end{equation*}"
      ]
    },
    {
      "cell_type": "code",
      "execution_count": 26,
      "metadata": {
        "id": "Yf5YagH34_Vd",
        "colab": {
          "base_uri": "https://localhost:8080/"
        },
        "outputId": "fb981466-ba52-4566-df1f-45e979ae95ec"
      },
      "outputs": [
        {
          "output_type": "stream",
          "name": "stdout",
          "text": [
            "v1 ortonormal =\n",
            " [[-0.30151134  0.90453403]\n",
            " [ 0.          0.30151134]]\n",
            "\n",
            "v2 ortonormal =\n",
            " [[ 0.75341057  0.32961713]\n",
            " [-0.51796977 -0.2354408 ]]\n",
            "\n",
            "v3 ortonormal =\n",
            " [[-0.75592895  0.37796447]\n",
            " [ 0.37796447  0.37796447]]\n"
          ]
        }
      ],
      "source": [
        "import numpy as np\n",
        "\n",
        "# Definimos las matrices A1, A2, A3 (correspondientes a u1, u2, u3 en tu ejemplo)\n",
        "A1 = np.array([[-1, 3], [0, 1]])\n",
        "A2 = np.array([[1, 2], [-1, 0]])\n",
        "A3 = np.array([[-2, 1], [1, 1]])\n",
        "\n",
        "# Definimos la función del producto escalar como la traza de la multiplicación de matrices\n",
        "Product = lambda A, B: np.trace(np.transpose(B) @ A)\n",
        "\n",
        "# Hallamos el vector v1 (equivalente a u1 en el ejemplo)\n",
        "v1 = A1\n",
        "\n",
        "# Hallamos el vector v2\n",
        "producto_v1_v1 = Product(v1, v1)\n",
        "producto_u2_v1 = Product(A2, v1)\n",
        "\n",
        "v2 = A2 - (producto_u2_v1 / producto_v1_v1) * v1\n",
        "\n",
        "# Hallamos el vector v3\n",
        "producto_v2_v2 = Product(v2, v2)\n",
        "producto_u3_v1 = Product(A3, v1)\n",
        "producto_u3_v2 = Product(A3, v2)\n",
        "\n",
        "v3 = A3 - (producto_u3_v1 / producto_v1_v1) * v1 - (producto_u3_v2 / producto_v2_v2) * v2\n",
        "\n",
        "\n",
        "v1_normal = v1 / np.sqrt(Product(v1, v1))\n",
        "v2_normal = v2 / np.sqrt(Product(v2, v2))\n",
        "v3_normal = v3 / np.sqrt(Product(v3, v3))\n",
        "\n",
        "# Imprimimos los vectores ortonormales\n",
        "print('v1 ortonormal =\\n', v1_normal)\n",
        "print('\\nv2 ortonormal =\\n', v2_normal)\n",
        "print('\\nv3 ortonormal =\\n', v3_normal)\n",
        "\n"
      ]
    }
  ],
  "metadata": {
    "colab": {
      "provenance": []
    },
    "kernelspec": {
      "display_name": "Python 3",
      "name": "python3"
    },
    "language_info": {
      "name": "python"
    }
  },
  "nbformat": 4,
  "nbformat_minor": 0
}